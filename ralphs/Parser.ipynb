{
 "cells": [
  {
   "cell_type": "markdown",
   "id": "3557f5e0",
   "metadata": {},
   "source": [
    "# Schema\n",
    "* Header\n",
    "  * Address\n",
    "    * Street\n",
    "    * City\n",
    "    * State\n",
    "    * Zip\n",
    "  * Phone\n",
    "* Body\n",
    "  * DateTime\n",
    "  * REF\n",
    "  * AID\n",
    "  * TC\n",
    "  * RewardsID\n",
    "  * Tax\n",
    "  * Balance\n",
    "  * Paid\n",
    "  * Change\n",
    "  * TotalSavings\n",
    "  * TotalCoupons\n",
    "  * Items (Array)\n",
    "    * Product\n",
    "    * Quantity (optional)\n",
    "    * Price\n",
    "    * Savings\n",
    "  \n",
    "* Footer"
   ]
  },
  {
   "cell_type": "code",
   "execution_count": 1,
   "id": "b48b186b",
   "metadata": {},
   "outputs": [],
   "source": [
    "import pandas as pd\n",
    "import re"
   ]
  },
  {
   "cell_type": "code",
   "execution_count": 2,
   "id": "7bc1ead0",
   "metadata": {},
   "outputs": [],
   "source": [
    "from decimal import *"
   ]
  },
  {
   "cell_type": "code",
   "execution_count": 3,
   "id": "e792fdac",
   "metadata": {},
   "outputs": [],
   "source": [
    "basepath = '/Users/ericmelz/Desktop/Ralphs/Receipts/Excel'\n",
    "receipt1 = f'{basepath}/2020_02_10_01.xlsx'"
   ]
  },
  {
   "cell_type": "code",
   "execution_count": 4,
   "id": "65974fe1",
   "metadata": {},
   "outputs": [],
   "source": [
    "df = pd.read_excel(receipt1)"
   ]
  },
  {
   "cell_type": "markdown",
   "id": "9f4bcd56",
   "metadata": {},
   "source": [
    "```\n",
    "general strategies\n",
    "have high level functions for extraction\n",
    "\n",
    "extractHeader calls\n",
    "  extractAddress calls\n",
    "    extractFirstLine - extracts first line of receipt - which is always street address\n",
    "  extractFirstPhoneNumber - finds first occurrence of (ddd) ddd-dddd pattern\n",
    "  extractCashier - finds \"Your cashier was <blah>\"\n",
    "  extractCityStateZip - find first occurence of <city> <XX> <ddddd>\n",
    "\n",
    "  returns header object, with metadata about rows used\n",
    "    \n",
    "    \n",
    "extractBody\n",
    "  locate dateTime\n",
    "  extract everything through dateTime\n",
    "  eliminate rows that were included in Header\n",
    " ```"
   ]
  },
  {
   "cell_type": "code",
   "execution_count": 5,
   "id": "84eda093",
   "metadata": {},
   "outputs": [],
   "source": [
    "def find_and_extract(pattern, df):\n",
    "    '''\n",
    "    Find a pattern in df and extract the matching group.\n",
    "    Return the extracting and the (row, col) location. \n",
    "    If not found or not matched, return None\n",
    "    '''\n",
    "    for col in range(df.shape[1]):\n",
    "        df2 = df[df.columns[col]].str.findall(pattern).str.len() > 0\n",
    "        if not df2.any():\n",
    "            continue\n",
    "        row = df[df[df.columns[col]].str.findall(pattern).str.len() > 0].index[0]\n",
    "        contents = df.iloc[row, col]\n",
    "        m = re.match(pattern, contents)\n",
    "        if m.lastindex < 1:\n",
    "            return None\n",
    "        extracted = []\n",
    "        for i in range(1, m.lastindex + 1):\n",
    "            extracted.append(m[i])\n",
    "        return extracted, (row, col)\n",
    "    return None"
   ]
  },
  {
   "cell_type": "code",
   "execution_count": 6,
   "id": "b823563c",
   "metadata": {},
   "outputs": [],
   "source": [
    "class Address:\n",
    "    street = None\n",
    "    city = None\n",
    "    state = None\n",
    "    zipcode = None\n",
    "    \n",
    "    def __init__(self, street, city, state, zipcode):\n",
    "        self.street = street\n",
    "        self.city = city\n",
    "        self.state = state\n",
    "        self.zipcode = zipcode\n",
    "    \n",
    "    def __str__(self):\n",
    "        return f'{self.street} {self.city} {self.state} {self.zipcode}'"
   ]
  },
  {
   "cell_type": "code",
   "execution_count": 7,
   "id": "5994a719",
   "metadata": {},
   "outputs": [],
   "source": [
    "def extract_address(df):\n",
    "    '''\n",
    "    Return an address object\n",
    "    '''\n",
    "    city_state_zip_pattern = '(.*) (..) (\\d{5})'\n",
    "    street_pattern = '(\\d+ .* (Blvd|St))'\n",
    "    street, rowcol = find_and_extract(street_pattern, df)\n",
    "    city_state_zip, rowcol = find_and_extract(city_state_zip_pattern, df)\n",
    "    city = city_state_zip[0]\n",
    "    state = city_state_zip[1]\n",
    "    zipcode = city_state_zip[2]\n",
    "    address = Address(street[0], city, state, zipcode)\n",
    "    return address\n",
    "    \n",
    "    "
   ]
  },
  {
   "cell_type": "code",
   "execution_count": 8,
   "id": "e2617e6b",
   "metadata": {},
   "outputs": [],
   "source": [
    "def extract_phone(df):\n",
    "    phone, rowcol = find_and_extract('(\\(\\d{3}\\) \\d{3}-\\d{4})', df)\n",
    "    return phone[0]"
   ]
  },
  {
   "cell_type": "code",
   "execution_count": 9,
   "id": "8658c713",
   "metadata": {},
   "outputs": [],
   "source": [
    "def extract_cashier(df):\n",
    "    cashier, rowcol = find_and_extract('Your cashier was (.*)', df)\n",
    "    return cashier[0], rowcol"
   ]
  },
  {
   "cell_type": "code",
   "execution_count": 10,
   "id": "8e7cec62",
   "metadata": {},
   "outputs": [],
   "source": [
    "class Header:\n",
    "    address = None\n",
    "    cashier = None\n",
    "    phone = None\n",
    "    \n",
    "    def __init__(self, address, cashier, phone):\n",
    "        self.address = address\n",
    "        self.cashier = cashier\n",
    "        self.phone = phone\n",
    "        \n",
    "    def __str__(self):\n",
    "        return f'[address: {self.address}, cashier: {self.cashier}, phone: {self.phone}]'"
   ]
  },
  {
   "cell_type": "code",
   "execution_count": 11,
   "id": "8499f828",
   "metadata": {},
   "outputs": [],
   "source": [
    "def extract_header(df):\n",
    "    address = extract_address(df)\n",
    "    cashier, _ = extract_cashier(df)\n",
    "    phone = extract_phone(df)\n",
    "    header = Header(address, cashier, phone)\n",
    "    return header"
   ]
  },
  {
   "cell_type": "markdown",
   "id": "6a2f625e",
   "metadata": {},
   "source": [
    "```\n",
    "Line items strategy\n",
    "segment line items\n",
    "  - first non-blank line after cashier\n",
    "  - RALPHS reward CUSTOMER\n",
    "  \n",
    "tokenize non-blank cells into stream\n",
    "- item @ quantity applies to following item\n",
    "- RALPHS SAVED YOU + quantity applies to preceding item unless it's CA REDEM VAL then it's 2 items back (the bottle)\n",
    "- Can Ignore SC, RC (noise)\n",
    "- When we see amounts, strip off F or B. \n",
    "  - If previous token is a RALPHS_SAVED_YOU, apply the savings to the previous token (or 2 back)\n",
    "  - otherwise, apply the total to the product\n",
    "  \n",
    "Example:\n",
    "['8 @ 1.29', 'CGYS ALPINE', 'RC', '10.00 F', '8 @ .10', 'CA REDM VAL', '0.80 F', \n",
    " 'RALPHS SAVED YOU', '0.32', 'ARROWHEAD ICE', '4.49 B']\n",
    " \n",
    "=>\n",
    "\n",
    "[ItemsAndQuantity('8', '1.29'), Product('CGYS ALPINE'), ItemTotal('10.00'), \n",
    " ItemsAndQuantity('8', '0.10'), Product('CA REDEM VAL'), ItemTotal('0.80'),\n",
    " Savings('0.32'),\n",
    " Product('ARROWHEAD ICE'), ItemTotal('4.49')]\n",
    " \n",
    "=>\n",
    "[LineItem(product='CGYS ALPINE', qty=8, unitprice=1.29, total=10.00, savings=.32)\n",
    " LineItem(product='CA REDEM VAL', qty=8, unitprice=0.10, total=0.80)\n",
    " LineItem(product='ARROWHEAD ICE', total=4.49)] \n",
    "\n",
    "tokenization rules:\n",
    "\n",
    "- match (\\d+) @ (\\d*\\.\\d\\d)\n",
    "  emit ItemQuantity({1}, {2})\n",
    "  \n",
    "- match SC, RC - skip\n",
    "\n",
    "- match (\\d+\\.\\d\\d)\n",
    "  emit ItemTotal\n",
    "\n",
    "- match RALPHS SAVED YOU\n",
    "  - lookahead to next token\n",
    "    - confirm match of (\\d+\\.\\d{2})\n",
    "    - emit Savings({1})\n",
    "\n",
    "- otherwise match (.*)\n",
    "  emit Product({1})  \n",
    "\n",
    "```"
   ]
  },
  {
   "cell_type": "code",
   "execution_count": 12,
   "id": "892ff48b",
   "metadata": {},
   "outputs": [],
   "source": [
    "class ItemsAndQuantity:\n",
    "    qty = None\n",
    "    unitprice = None\n",
    "    \n",
    "    def __init__(self, qty, unitprice):\n",
    "        self.qty = int(qty)\n",
    "        self.unitprice = Decimal(unitprice)\n",
    "    \n",
    "    def __str__(self):\n",
    "        return f'ItemsAndQuantity({self.qty}, {self.unitprice})'"
   ]
  },
  {
   "cell_type": "code",
   "execution_count": 13,
   "id": "ac66d81d",
   "metadata": {},
   "outputs": [],
   "source": [
    "class Product:\n",
    "    name = None\n",
    "    \n",
    "    def __init__(self, name):\n",
    "        self.name = name\n",
    "    \n",
    "    def __str__(self):\n",
    "        return f'Product({self.name})'"
   ]
  },
  {
   "cell_type": "code",
   "execution_count": 14,
   "id": "13e1bcf8",
   "metadata": {},
   "outputs": [],
   "source": [
    "class ItemTotal:\n",
    "    amount = None\n",
    "    \n",
    "    def __init__(self, amount):\n",
    "        self.amount = Decimal(amount)\n",
    "    \n",
    "    def __str__(self):\n",
    "        return f'ItemTotal({self.amount})'"
   ]
  },
  {
   "cell_type": "code",
   "execution_count": 15,
   "id": "3e67bdc2",
   "metadata": {},
   "outputs": [],
   "source": [
    "class Savings:\n",
    "    amount = None\n",
    "    \n",
    "    def __init__(self, amount):\n",
    "        self.amount = Decimal(amount)\n",
    "    \n",
    "    def __str__(self):\n",
    "        return f'Savings({self.amount})'"
   ]
  },
  {
   "cell_type": "code",
   "execution_count": 16,
   "id": "f987b11d",
   "metadata": {},
   "outputs": [],
   "source": [
    "class LineItem:\n",
    "    product = None\n",
    "    qty = None\n",
    "    unitprice = None\n",
    "    total = None\n",
    "    savings = None\n",
    "    \n",
    "    def __str__(self):\n",
    "        return f'LineItem(product={self.product}, qty={self.qty}, unitprice={self.unitprice}, total={self.total}, ' + \\\n",
    "            f'savings={self.savings})'"
   ]
  },
  {
   "cell_type": "code",
   "execution_count": 17,
   "id": "69785b52",
   "metadata": {},
   "outputs": [],
   "source": [
    "class Noise:\n",
    "    noise = None\n",
    "    \n",
    "    def __init__(self, noise):\n",
    "        self.noise = noise\n",
    "        \n",
    "    def __str__(self):\n",
    "        return f'Noise({self.noise})'"
   ]
  },
  {
   "cell_type": "code",
   "execution_count": 18,
   "id": "4e105acc",
   "metadata": {},
   "outputs": [],
   "source": [
    "def parse_items_and_quantity(text):\n",
    "    m = re.match('(\\d) @ (\\d*\\.\\d{2})', text)\n",
    "    if m:\n",
    "        return ItemsAndQuantity(m[1], m[2])\n",
    "    return None"
   ]
  },
  {
   "cell_type": "code",
   "execution_count": 19,
   "id": "b60503a6",
   "metadata": {},
   "outputs": [],
   "source": [
    "def parse_item_total(text):\n",
    "    m = re.match('(\\d+\\.\\d{2})', text)\n",
    "    if m:\n",
    "        return ItemTotal(m[1])\n",
    "    return None"
   ]
  },
  {
   "cell_type": "code",
   "execution_count": 20,
   "id": "5f69a94c",
   "metadata": {},
   "outputs": [],
   "source": [
    "def parse_savings_header(text):\n",
    "    m = re.match('RALPHS SAVED YOU', text)\n",
    "    if m:\n",
    "        return True\n",
    "    return None"
   ]
  },
  {
   "cell_type": "code",
   "execution_count": 21,
   "id": "a5e03c51",
   "metadata": {},
   "outputs": [],
   "source": [
    "def parse_savings_body(text):\n",
    "    m = re.match('(\\d+\\.\\d{2})', text)\n",
    "    if m:\n",
    "        return Savings(m[1])\n",
    "    return None"
   ]
  },
  {
   "cell_type": "code",
   "execution_count": 22,
   "id": "26ec7360",
   "metadata": {},
   "outputs": [],
   "source": [
    "def parse_product(text):\n",
    "    return Product(text)"
   ]
  },
  {
   "cell_type": "code",
   "execution_count": 23,
   "id": "355873d4",
   "metadata": {},
   "outputs": [],
   "source": [
    "def parse_noise(text):\n",
    "    m = re.match('(SC|RC)', text)\n",
    "    if m:\n",
    "        return Noise(m[1])\n",
    "    return None"
   ]
  },
  {
   "cell_type": "code",
   "execution_count": 24,
   "id": "ce2174dc",
   "metadata": {},
   "outputs": [],
   "source": [
    "def parse_text(texts):\n",
    "    '''\n",
    "    Given a list of texts (strings) produce a list of tokens\n",
    "    '''\n",
    "    tokens = []\n",
    "    i = -1\n",
    "    while i < len(texts) - 1:\n",
    "        i += 1\n",
    "        text = texts[i]\n",
    "        token = parse_items_and_quantity(text)        \n",
    "        if token:\n",
    "            tokens.append(token)\n",
    "            continue\n",
    "        token = parse_noise(text)\n",
    "        if token:\n",
    "            continue\n",
    "        token = parse_savings_header(text)\n",
    "        if token:\n",
    "            i += 1\n",
    "            text = texts[i]\n",
    "            token = parse_savings_body(text)\n",
    "            if token:\n",
    "                tokens.append(token)\n",
    "                continue\n",
    "        token = parse_item_total(text)\n",
    "        if token:\n",
    "            tokens.append(token)\n",
    "            continue\n",
    "        token = parse_product(text)\n",
    "        tokens.append(token)\n",
    "    return tokens\n",
    "        "
   ]
  },
  {
   "cell_type": "code",
   "execution_count": 25,
   "id": "c1f1ee1e",
   "metadata": {},
   "outputs": [],
   "source": [
    "def parse_tokens(tokens):\n",
    "    '''\n",
    "    Given a list of tokens produce a list of line items\n",
    "    '''\n",
    "    items = []\n",
    "    i = -1\n",
    "    while i < len(tokens) - 1:\n",
    "        i += 1\n",
    "        token = tokens[i]\n",
    "        if isinstance(token, ItemsAndQuantity):\n",
    "            item = LineItem()\n",
    "            item.qty = token.qty\n",
    "            item.unitprice = token.unitprice\n",
    "            items.append(item)\n",
    "            continue\n",
    "        if isinstance(token, Product):\n",
    "            if item.total is not None:\n",
    "                item = LineItem()\n",
    "                items.append(item)\n",
    "            item.product = token.name\n",
    "            continue\n",
    "        if isinstance(token, ItemTotal):\n",
    "            item.total = token.amount\n",
    "            continue\n",
    "        if isinstance(token, Savings):\n",
    "            tempitem = item\n",
    "            if item.product == 'CA REDEM VAL':\n",
    "                tempitem = items[-2]\n",
    "            tempitem.savings = token.amount\n",
    "    return items\n",
    "        "
   ]
  },
  {
   "cell_type": "code",
   "execution_count": 26,
   "id": "6d6cedad",
   "metadata": {},
   "outputs": [],
   "source": [
    "def find_rewards_customer_line(df):\n",
    "    line, rowcol = find_and_extract('(RALPHS rewards CUSTOMER)', df)\n",
    "    return rowcol[0]"
   ]
  },
  {
   "cell_type": "code",
   "execution_count": 27,
   "id": "61e0ae46",
   "metadata": {},
   "outputs": [],
   "source": [
    "def extract_line_item_text(df, start, end):\n",
    "    texts = []\n",
    "    for r in range(start, end):\n",
    "        for c in range(df.shape[1]):\n",
    "            text = df.iloc[r][c]\n",
    "            if text and str(text) != 'nan':\n",
    "                texts.append(str(text))\n",
    "    return texts"
   ]
  },
  {
   "cell_type": "code",
   "execution_count": 28,
   "id": "7a550050",
   "metadata": {},
   "outputs": [],
   "source": [
    "def extract_line_items(df):\n",
    "    _, (row, _) = extract_cashier(df)\n",
    "    lineitem_start = row + 1\n",
    "    lineitem_end = find_rewards_customer_line(df)\n",
    "    texts = extract_line_item_text(df, lineitem_start, lineitem_end)\n",
    "    tokens = parse_text(texts)\n",
    "    items = parse_tokens(tokens)\n",
    "    return items"
   ]
  },
  {
   "cell_type": "code",
   "execution_count": 29,
   "id": "9d29203e",
   "metadata": {},
   "outputs": [],
   "source": [
    "class Body:\n",
    "    line_items = None\n",
    "    \n",
    "    def __init__(self, line_items):\n",
    "        self.line_items = line_items\n",
    "        \n",
    "    def __str__(self):\n",
    "        return '\\n'.join([str(x) for x in self.line_items])"
   ]
  },
  {
   "cell_type": "code",
   "execution_count": 30,
   "id": "651762ea",
   "metadata": {},
   "outputs": [],
   "source": [
    "def extract_body(df):\n",
    "    line_items = extract_line_items(df)\n",
    "    body = Body(line_items)\n",
    "    return body"
   ]
  },
  {
   "cell_type": "code",
   "execution_count": 31,
   "id": "76ae3b83",
   "metadata": {},
   "outputs": [],
   "source": [
    "class Receipt:\n",
    "    header = None\n",
    "    Body = None\n",
    "    \n",
    "    def __init__(self, header, body):\n",
    "        self.header = header\n",
    "        self.body = body\n",
    "        \n",
    "    def __str__(self):\n",
    "        return str(self.header) + '\\n' + str(self.body)"
   ]
  },
  {
   "cell_type": "code",
   "execution_count": 32,
   "id": "713c6186",
   "metadata": {},
   "outputs": [],
   "source": [
    "def extract_receipt(df):\n",
    "    header = extract_header(df)\n",
    "    body = extract_body(df)\n",
    "    receipt = Receipt(header, body)\n",
    "    return receipt"
   ]
  },
  {
   "cell_type": "code",
   "execution_count": 33,
   "id": "51d0666f",
   "metadata": {},
   "outputs": [],
   "source": [
    "receipt = extract_receipt(df)"
   ]
  },
  {
   "cell_type": "code",
   "execution_count": 34,
   "id": "42d0163d",
   "metadata": {},
   "outputs": [
    {
     "name": "stdout",
     "output_type": "stream",
     "text": [
      "[address: 9616 W. Pico Blvd Los Angeles CA 90035, cashier: CHEC 504, phone: (310) 271-2672]\n",
      "LineItem(product=CGYS ALPINE, qty=8, unitprice=1.29, total=10.00, savings=0.32)\n",
      "LineItem(product=CA REDEM VAL, qty=8, unitprice=0.10, total=0.80, savings=None)\n",
      "LineItem(product=ARROWHEAD ICE, qty=None, unitprice=None, total=4.49, savings=None)\n"
     ]
    }
   ],
   "source": [
    "print(receipt)"
   ]
  },
  {
   "cell_type": "markdown",
   "id": "0e5129f6",
   "metadata": {},
   "source": [
    "## TODO\n",
    "* Save receipts as json to disk\n",
    "* Try more receipts\n",
    "* Compute total\n",
    "* Handle Tax\n",
    "* Extract footer\n",
    "* Extract datetime\n",
    "* Save date and sequence number (from filename) as fields\n",
    "* Cleanup, reorg logic\n",
    "* Save as script\n",
    "* Run from cmd line\n",
    "* Test - compare calculated totals with reported totals"
   ]
  },
  {
   "cell_type": "code",
   "execution_count": null,
   "id": "bc924ea2",
   "metadata": {},
   "outputs": [],
   "source": []
  }
 ],
 "metadata": {
  "kernelspec": {
   "display_name": "Python 3 (ipykernel)",
   "language": "python",
   "name": "python3"
  },
  "language_info": {
   "codemirror_mode": {
    "name": "ipython",
    "version": 3
   },
   "file_extension": ".py",
   "mimetype": "text/x-python",
   "name": "python",
   "nbconvert_exporter": "python",
   "pygments_lexer": "ipython3",
   "version": "3.8.2"
  }
 },
 "nbformat": 4,
 "nbformat_minor": 5
}
